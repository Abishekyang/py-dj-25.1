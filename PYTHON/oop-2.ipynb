{
 "cells": [
  {
   "cell_type": "markdown",
   "id": "a6f701b5",
   "metadata": {},
   "source": [
    "# Inheritence\n",
    "\n",
    "1. Parent Class\n",
    "2. Child Class\n",
    "\n",
    "```\n",
    "class ParentClass:\n",
    "    pass\n",
    "\n",
    "class ChildClass(ParentClass):\n",
    "    pass\n",
    "```\n",
    "\n",
    "**Parent Class**\n",
    "- Base class, from which other class can inherit\n",
    "\n",
    "**Child Class**\n",
    "- Derived class that inherits from the parent class"
   ]
  },
  {
   "cell_type": "markdown",
   "id": "6ccf594f",
   "metadata": {},
   "source": [
    "## Types of Inheritence\n",
    "\n",
    "1. Single\n",
    "```\n",
    "Parent Class <------- Child Class\n",
    "```\n",
    "\n",
    "2. Multiple\n",
    "```\n",
    "Parent Class 1, Parent Class 2 <--------- Child Class\n",
    "```\n",
    "\n",
    "3. Multilevel\n",
    "```\n",
    "Parent Class <--------- Child Class <----------- Grand Child Class\n",
    "```\n",
    "\n",
    "4. Hierarichal\n",
    "```\n",
    "Parent Class <--------- Child Class 1, Child Class 2\n",
    "```\n",
    "\n",
    "5. Hybrid \n",
    "- Any two or more combination"
   ]
  },
  {
   "cell_type": "code",
   "execution_count": null,
   "id": "e99819d3",
   "metadata": {},
   "outputs": [
    {
     "name": "stdout",
     "output_type": "stream",
     "text": [
      "Animal has 2 eyes.\n",
      "Bhau Bhau\n"
     ]
    }
   ],
   "source": [
    "# Animal <-------- Dog\n",
    "\n",
    "# get_eyes() -> \n",
    "# speak() -> \n",
    "\n",
    "# Single Inheritence\n",
    "\n",
    "class Animal:\n",
    "    def get_eyes(self):\n",
    "        return \"Animal has 2 eyes.\"\n",
    "    \n",
    "class Dog(Animal):\n",
    "    def speak(self):\n",
    "        return \"Bhau Bhau\"\n",
    "    \n",
    "dog = Dog()\n",
    "print(dog.get_eyes())\n",
    "print(dog.speak())\n"
   ]
  },
  {
   "cell_type": "code",
   "execution_count": 27,
   "id": "6aef1a02",
   "metadata": {},
   "outputs": [],
   "source": [
    "class Person:\n",
    "    def __init__(self, name):\n",
    "        self.name = name\n",
    "\n",
    "    def info(self):\n",
    "        print(\"Name:\", self.name)\n",
    "\n",
    "class Employee(Person):\n",
    "    def __init__(self, name, company):\n",
    "        self.company = company\n",
    "        super().__init__(name)\n",
    "\n",
    "    def info(self):\n",
    "        print(\"Name:\", self.name)\n",
    "        print(\"Company:\", self.company)"
   ]
  },
  {
   "cell_type": "code",
   "execution_count": 20,
   "id": "79393e9a",
   "metadata": {},
   "outputs": [
    {
     "name": "stdout",
     "output_type": "stream",
     "text": [
      "Name: Ram\n"
     ]
    }
   ],
   "source": [
    "p = Person(\"Ram\")\n",
    "p.info()"
   ]
  },
  {
   "cell_type": "code",
   "execution_count": 24,
   "id": "3b0b4de1",
   "metadata": {},
   "outputs": [
    {
     "name": "stdout",
     "output_type": "stream",
     "text": [
      "Name: hari\n",
      "Company: STN\n"
     ]
    }
   ],
   "source": [
    "e = Employee(\"hari\", \"STN\")\n",
    "e.info()"
   ]
  },
  {
   "cell_type": "code",
   "execution_count": 23,
   "id": "aa9ada06",
   "metadata": {},
   "outputs": [
    {
     "name": "stdout",
     "output_type": "stream",
     "text": [
      "Name: Gopal\n",
      "Company: STN\n",
      "Python Django\n"
     ]
    }
   ],
   "source": [
    "class Programmer(Employee):\n",
    "    def __init__(self, name, company, skill):\n",
    "        super().__init__(name, company)\n",
    "        self.skill = skill\n",
    "\n",
    "    \n",
    "programmer = Programmer(\"Gopal\", \"STN\", \"Python Django\")\n",
    "programmer.info()\n",
    "print(programmer.skill)"
   ]
  },
  {
   "cell_type": "code",
   "execution_count": 30,
   "id": "5b578268",
   "metadata": {},
   "outputs": [
    {
     "name": "stdout",
     "output_type": "stream",
     "text": [
      "['Wood Cutting', 'Carpentry', 'Cooking', 'Painting', 'Coding']\n"
     ]
    }
   ],
   "source": [
    "class Father:\n",
    "    def skills(self):\n",
    "        return [\"Wood Cutting\", \"Carpentry\"]\n",
    "    \n",
    "class Mother:\n",
    "    def skills(self):\n",
    "        return [\"Cooking\", \"Painting\"]\n",
    "    \n",
    "class Child(Father, Mother):\n",
    "    def skills(self):\n",
    "        return Father.skills(self) + Mother.skills(self) + [\"Coding\"]\n",
    "    \n",
    "\n",
    "print(Child().skills())"
   ]
  },
  {
   "cell_type": "code",
   "execution_count": 31,
   "id": "3f699a74",
   "metadata": {},
   "outputs": [
    {
     "name": "stdout",
     "output_type": "stream",
     "text": [
      "Flying in the sky\n",
      "Flying in the sky using fuel\n"
     ]
    }
   ],
   "source": [
    "# Polymorphism\n",
    "\n",
    "class Bird:\n",
    "    def fly(self):\n",
    "        return \"Flying in the sky\"\n",
    "    \n",
    "class Airplane:\n",
    "    def fly(self):\n",
    "        return \"Flying in the sky using fuel\"\n",
    "    \n",
    "def flying(obj):\n",
    "    print(obj.fly())\n",
    "\n",
    "\n",
    "b = Bird()\n",
    "a = Airplane()\n",
    "\n",
    "flying(b)\n",
    "flying(a)"
   ]
  },
  {
   "cell_type": "code",
   "execution_count": 44,
   "id": "9535d4e2",
   "metadata": {},
   "outputs": [],
   "source": [
    "# Abstraction\n",
    "\n",
    "# Can not cerate object of abstract class, must need to override abstract methods\n",
    "\n",
    "from abc import abstractmethod, ABC\n",
    "\n",
    "class Shape(ABC):\n",
    "    @abstractmethod\n",
    "    def area(self):\n",
    "        pass\n",
    "\n",
    "class Circle(Shape):\n",
    "    def __init__(self, radius):\n",
    "        self.radius = radius\n",
    "\n",
    "    def area(self):\n",
    "        return 3.14 * self.radius * self.radius\n",
    "    \n",
    "class Square(Shape):\n",
    "    def __init__(self, length):\n",
    "        self.length = length\n",
    "        \n",
    "    def area(self):\n",
    "        return self.length * self.length"
   ]
  },
  {
   "cell_type": "code",
   "execution_count": 45,
   "id": "01dbbadf",
   "metadata": {},
   "outputs": [
    {
     "name": "stdout",
     "output_type": "stream",
     "text": [
      "78.5\n"
     ]
    }
   ],
   "source": [
    "c = Circle(5)\n",
    "print(c.area())"
   ]
  },
  {
   "cell_type": "code",
   "execution_count": 46,
   "id": "b908cda5",
   "metadata": {},
   "outputs": [
    {
     "name": "stdout",
     "output_type": "stream",
     "text": [
      "25\n"
     ]
    }
   ],
   "source": [
    "print(Square(5).area())"
   ]
  },
  {
   "cell_type": "code",
   "execution_count": null,
   "id": "c5a92ca6",
   "metadata": {},
   "outputs": [
    {
     "ename": "TypeError",
     "evalue": "Can't instantiate abstract class Shape without an implementation for abstract method 'area'",
     "output_type": "error",
     "traceback": [
      "\u001b[31m---------------------------------------------------------------------------\u001b[39m",
      "\u001b[31mTypeError\u001b[39m                                 Traceback (most recent call last)",
      "\u001b[36mCell\u001b[39m\u001b[36m \u001b[39m\u001b[32mIn[47]\u001b[39m\u001b[32m, line 1\u001b[39m\n\u001b[32m----> \u001b[39m\u001b[32m1\u001b[39m \u001b[43mShape\u001b[49m\u001b[43m(\u001b[49m\u001b[43m)\u001b[49m.area()\n",
      "\u001b[31mTypeError\u001b[39m: Can't instantiate abstract class Shape without an implementation for abstract method 'area'"
     ]
    }
   ],
   "source": [
    "Shape().area()"
   ]
  },
  {
   "cell_type": "code",
   "execution_count": 48,
   "id": "190d2bcb",
   "metadata": {},
   "outputs": [],
   "source": [
    "# Static Methods\n",
    "\n",
    "class Math:\n",
    "    @staticmethod\n",
    "    def add(a, b):\n",
    "        return a + b\n",
    "    \n",
    "    @staticmethod\n",
    "    def multiply(a, b):\n",
    "        return a * b"
   ]
  },
  {
   "cell_type": "code",
   "execution_count": 49,
   "id": "06dbf5d7",
   "metadata": {},
   "outputs": [
    {
     "name": "stdout",
     "output_type": "stream",
     "text": [
      "9\n",
      "20\n"
     ]
    }
   ],
   "source": [
    "m = Math()\n",
    "print(m.add(5, 4))\n",
    "print(m.multiply(5, 4))"
   ]
  },
  {
   "cell_type": "code",
   "execution_count": null,
   "id": "51aeefbd",
   "metadata": {},
   "outputs": [],
   "source": []
  }
 ],
 "metadata": {
  "kernelspec": {
   "display_name": "Python 3",
   "language": "python",
   "name": "python3"
  },
  "language_info": {
   "codemirror_mode": {
    "name": "ipython",
    "version": 3
   },
   "file_extension": ".py",
   "mimetype": "text/x-python",
   "name": "python",
   "nbconvert_exporter": "python",
   "pygments_lexer": "ipython3",
   "version": "3.13.2"
  }
 },
 "nbformat": 4,
 "nbformat_minor": 5
}
